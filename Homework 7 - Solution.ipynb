{
 "cells": [
  {
   "cell_type": "markdown",
   "metadata": {},
   "source": [
    "# Homework 7 - Let's have another look at the Titanic"
   ]
  },
  {
   "cell_type": "markdown",
   "metadata": {},
   "source": [
    "The objective of this homework is to practice k-means clustering. To successfully complete this homework, you may use any resources available to you. \n",
    "\n",
    "Last week, we used supervised classification to understand what drives survivability. This week we explore whether the machine can figure it out on it's own.\n",
    "\n",
    "Get the `titanic3.csv` data (Source: [Link](http://biostat.mc.vanderbilt.edu/wiki/pub/Main/DataSets/titanic3info.txt)).\n",
    "\n",
    "1. Analyze the data using pandas.\n",
    "    * Create a column `child` that specifies whether the person is a child (age <= 10).\n",
    "    * Create a column `family_size` that specifies the size of the family of that person (Please note that there are two relevant columns for this step.\n",
    "2. Develop clusters for the dataset.\n",
    "    * Impute the `age` column with the **median** (Please note that this a very simplified step. Imputing is usually way more complex).\n",
    "    * Drop all remaining NaN values.\n",
    "    * Preprocess the `sex` column using LabelEncoder.\n",
    "    * Preprocess the `child` column using LabelEncoder (not actually necessary but for systematic purposes).\n",
    "    * Scale the data set to standardize the dataset using `sklearn.preprocessing.scale`\n",
    "    * Run a KMeans cluster analysis. Pick an appropriate number of clusters.\n",
    "    * Interpret the results.\n",
    "3. Implement a Search for the best cluster using silhouette.\n",
    "    * Set the parameters to 2,3,4,5,6 clusters.\n",
    "    * Interpret the best results.\n",
    "    * Try to find names for the clusters.\n",
    "    \n",
    "Hints:\n",
    "* Explain what you are doing.\n",
    "* Use references."
   ]
  },
  {
   "cell_type": "code",
   "execution_count": 243,
   "metadata": {
    "ExecuteTime": {
     "end_time": "2018-03-09T00:47:58.379615Z",
     "start_time": "2018-03-09T00:47:58.371286Z"
    }
   },
   "outputs": [],
   "source": [
    "import numpy as np\n",
    "import pandas as pd\n",
    "import seaborn as sns"
   ]
  },
  {
   "cell_type": "code",
   "execution_count": 244,
   "metadata": {
    "ExecuteTime": {
     "end_time": "2018-03-09T00:47:58.397884Z",
     "start_time": "2018-03-09T00:47:58.386108Z"
    }
   },
   "outputs": [],
   "source": [
    "import sklearn as sk\n",
    "import sklearn.tree as tree\n",
    "import sklearn.preprocessing as pp\n",
    "import sklearn.metrics as sm"
   ]
  },
  {
   "cell_type": "code",
   "execution_count": 245,
   "metadata": {
    "ExecuteTime": {
     "end_time": "2018-03-09T00:47:58.415046Z",
     "start_time": "2018-03-09T00:47:58.404432Z"
    }
   },
   "outputs": [],
   "source": [
    "from IPython.core.interactiveshell import InteractiveShell\n",
    "InteractiveShell.ast_node_interactivity = \"all\""
   ]
  },
  {
   "cell_type": "code",
   "execution_count": 246,
   "metadata": {
    "ExecuteTime": {
     "end_time": "2018-03-09T00:47:58.449789Z",
     "start_time": "2018-03-09T00:47:58.436290Z"
    }
   },
   "outputs": [],
   "source": [
    "%matplotlib inline\n",
    "import matplotlib.pyplot as plt"
   ]
  },
  {
   "cell_type": "code",
   "execution_count": 247,
   "metadata": {
    "ExecuteTime": {
     "end_time": "2018-03-09T00:47:58.546073Z",
     "start_time": "2018-03-09T00:47:58.462647Z"
    }
   },
   "outputs": [],
   "source": [
    "raw = pd.read_csv(\"https://raw.githubusercontent.com/mschermann/msis2802winter2018homework/master/\\\n",
    "titanic3.csv\")"
   ]
  },
  {
   "cell_type": "code",
   "execution_count": 248,
   "metadata": {
    "ExecuteTime": {
     "end_time": "2018-03-09T00:47:58.559247Z",
     "start_time": "2018-03-09T00:47:58.550853Z"
    }
   },
   "outputs": [],
   "source": [
    "tc = raw.copy()"
   ]
  },
  {
   "cell_type": "markdown",
   "metadata": {},
   "source": [
    "## Description of the dataset\n",
    "\n",
    "Each row is a passenger on the Titanic. The columns report attributes for the passengers:\n",
    "\n",
    "| Column | Description | Relevant for this homework|\n",
    "|--------|-------------|--------|\n",
    "|`survived`|1 = survived, 0 = died | **X**|\n",
    "|`pclass`| 1 = first class, 2 = second class, 3 = third class |**X**|\n",
    "|`name`| Name of the passenger| |\n",
    "|`sex`| male or female|**X**|\n",
    "|`age`| age in years|**X**|\n",
    "|`sibsp`| The number of siblings or spouses that are also traveling on the Titanic| **X**|\n",
    "|`parch`| The number of parents or childen that are also traveling on the Titanic| **X**|\n",
    "|`ticket`|The ticket number| |\n",
    "|`fare`| The ticket price | |\n",
    "|`cabin`| The cabin number | |\n",
    "|`embarked`| The starting city | |\n",
    "|`boat`| The emergency boat number | |\n",
    "|`body`| The identification number of the body | |\n",
    "|`home.dest`| The destination of the passenger | |"
   ]
  },
  {
   "cell_type": "code",
   "execution_count": 249,
   "metadata": {
    "ExecuteTime": {
     "end_time": "2018-03-09T00:47:58.584978Z",
     "start_time": "2018-03-09T00:47:58.565255Z"
    }
   },
   "outputs": [],
   "source": [
    "tc['child'] = tc['age'] <= 10"
   ]
  },
  {
   "cell_type": "code",
   "execution_count": 250,
   "metadata": {
    "ExecuteTime": {
     "end_time": "2018-03-09T00:47:58.621226Z",
     "start_time": "2018-03-09T00:47:58.601214Z"
    }
   },
   "outputs": [],
   "source": [
    "tc['family_size'] = 1 + tc['sibsp'] + tc['parch']"
   ]
  },
  {
   "cell_type": "code",
   "execution_count": 251,
   "metadata": {
    "ExecuteTime": {
     "end_time": "2018-03-09T00:47:58.675561Z",
     "start_time": "2018-03-09T00:47:58.627432Z"
    }
   },
   "outputs": [],
   "source": [
    "tc['age'] = pp.Imputer(strategy='median').fit_transform(tc[['age']])"
   ]
  },
  {
   "cell_type": "code",
   "execution_count": 252,
   "metadata": {
    "ExecuteTime": {
     "end_time": "2018-03-09T00:47:58.694766Z",
     "start_time": "2018-03-09T00:47:58.679412Z"
    }
   },
   "outputs": [],
   "source": [
    "t = tc[['survived', 'pclass', 'sex', 'age', 'child', 'family_size']].copy().dropna()"
   ]
  },
  {
   "cell_type": "code",
   "execution_count": 253,
   "metadata": {
    "ExecuteTime": {
     "end_time": "2018-03-09T00:47:58.915635Z",
     "start_time": "2018-03-09T00:47:58.698939Z"
    }
   },
   "outputs": [
    {
     "data": {
      "text/plain": [
       "{'female': 0, 'male': 1}"
      ]
     },
     "execution_count": 253,
     "metadata": {},
     "output_type": "execute_result"
    }
   ],
   "source": [
    "ge = pp.LabelEncoder()\n",
    "t['sex'] = ge.fit_transform(t['sex'].astype(str))\n",
    "dict(zip(ge.classes_, ge.transform(ge.classes_)))"
   ]
  },
  {
   "cell_type": "code",
   "execution_count": 254,
   "metadata": {
    "ExecuteTime": {
     "end_time": "2018-03-09T00:47:58.950224Z",
     "start_time": "2018-03-09T00:47:58.922427Z"
    }
   },
   "outputs": [
    {
     "data": {
      "text/plain": [
       "{'False': 0, 'True': 1}"
      ]
     },
     "execution_count": 254,
     "metadata": {},
     "output_type": "execute_result"
    }
   ],
   "source": [
    "ce = pp.LabelEncoder()\n",
    "t['child'] = ce.fit_transform(t['child'].astype(str))\n",
    "dict(zip(ce.classes_, ce.transform(ce.classes_)))"
   ]
  },
  {
   "cell_type": "code",
   "execution_count": 255,
   "metadata": {
    "ExecuteTime": {
     "end_time": "2018-03-09T00:47:58.980561Z",
     "start_time": "2018-03-09T00:47:58.955951Z"
    }
   },
   "outputs": [],
   "source": [
    "X = t.drop('survived', axis=1)\n",
    "X = pp.scale(X)"
   ]
  },
  {
   "cell_type": "code",
   "execution_count": 256,
   "metadata": {
    "ExecuteTime": {
     "end_time": "2018-03-09T00:47:58.992359Z",
     "start_time": "2018-03-09T00:47:58.983212Z"
    }
   },
   "outputs": [],
   "source": [
    "from sklearn.cluster import KMeans"
   ]
  },
  {
   "cell_type": "code",
   "execution_count": 257,
   "metadata": {
    "ExecuteTime": {
     "end_time": "2018-03-09T00:47:59.068797Z",
     "start_time": "2018-03-09T00:47:58.999493Z"
    }
   },
   "outputs": [],
   "source": [
    "cluster_label = KMeans(n_clusters=5).fit_predict(X)"
   ]
  },
  {
   "cell_type": "code",
   "execution_count": 258,
   "metadata": {
    "ExecuteTime": {
     "end_time": "2018-03-09T00:47:59.087425Z",
     "start_time": "2018-03-09T00:47:59.074347Z"
    }
   },
   "outputs": [],
   "source": [
    "t['cluster_label'] = pd.Series(cluster_label, index=t.index)"
   ]
  },
  {
   "cell_type": "code",
   "execution_count": 259,
   "metadata": {
    "ExecuteTime": {
     "end_time": "2018-03-09T00:47:59.178376Z",
     "start_time": "2018-03-09T00:47:59.098457Z"
    }
   },
   "outputs": [
    {
     "data": {
      "text/html": [
       "<div>\n",
       "<style scoped>\n",
       "    .dataframe tbody tr th:only-of-type {\n",
       "        vertical-align: middle;\n",
       "    }\n",
       "\n",
       "    .dataframe tbody tr th {\n",
       "        vertical-align: top;\n",
       "    }\n",
       "\n",
       "    .dataframe thead tr th {\n",
       "        text-align: left;\n",
       "    }\n",
       "</style>\n",
       "<table border=\"1\" class=\"dataframe\">\n",
       "  <thead>\n",
       "    <tr>\n",
       "      <th></th>\n",
       "      <th>cluster_label</th>\n",
       "      <th colspan=\"3\" halign=\"left\">survived</th>\n",
       "      <th>pclass</th>\n",
       "      <th>sex</th>\n",
       "      <th>age</th>\n",
       "      <th>child</th>\n",
       "      <th>family_size</th>\n",
       "    </tr>\n",
       "    <tr>\n",
       "      <th></th>\n",
       "      <th></th>\n",
       "      <th>count</th>\n",
       "      <th>sum</th>\n",
       "      <th>mean</th>\n",
       "      <th>mean</th>\n",
       "      <th>sum</th>\n",
       "      <th>mean</th>\n",
       "      <th>sum</th>\n",
       "      <th>mean</th>\n",
       "    </tr>\n",
       "  </thead>\n",
       "  <tbody>\n",
       "    <tr>\n",
       "      <th>0</th>\n",
       "      <td>0</td>\n",
       "      <td>554</td>\n",
       "      <td>75.0</td>\n",
       "      <td>0.135379</td>\n",
       "      <td>2.790614</td>\n",
       "      <td>554</td>\n",
       "      <td>27.472924</td>\n",
       "      <td>0</td>\n",
       "      <td>1.274368</td>\n",
       "    </tr>\n",
       "    <tr>\n",
       "      <th>1</th>\n",
       "      <td>1</td>\n",
       "      <td>86</td>\n",
       "      <td>50.0</td>\n",
       "      <td>0.581395</td>\n",
       "      <td>2.651163</td>\n",
       "      <td>45</td>\n",
       "      <td>4.304264</td>\n",
       "      <td>86</td>\n",
       "      <td>4.116279</td>\n",
       "    </tr>\n",
       "    <tr>\n",
       "      <th>2</th>\n",
       "      <td>2</td>\n",
       "      <td>344</td>\n",
       "      <td>257.0</td>\n",
       "      <td>0.747093</td>\n",
       "      <td>2.220930</td>\n",
       "      <td>0</td>\n",
       "      <td>27.534884</td>\n",
       "      <td>0</td>\n",
       "      <td>1.767442</td>\n",
       "    </tr>\n",
       "    <tr>\n",
       "      <th>3</th>\n",
       "      <td>3</td>\n",
       "      <td>276</td>\n",
       "      <td>108.0</td>\n",
       "      <td>0.391304</td>\n",
       "      <td>1.206522</td>\n",
       "      <td>223</td>\n",
       "      <td>44.068841</td>\n",
       "      <td>0</td>\n",
       "      <td>1.608696</td>\n",
       "    </tr>\n",
       "    <tr>\n",
       "      <th>4</th>\n",
       "      <td>4</td>\n",
       "      <td>49</td>\n",
       "      <td>10.0</td>\n",
       "      <td>0.204082</td>\n",
       "      <td>2.714286</td>\n",
       "      <td>21</td>\n",
       "      <td>28.459184</td>\n",
       "      <td>0</td>\n",
       "      <td>7.224490</td>\n",
       "    </tr>\n",
       "  </tbody>\n",
       "</table>\n",
       "</div>"
      ],
      "text/plain": [
       "  cluster_label survived                     pclass  sex        age child  \\\n",
       "                   count    sum      mean      mean  sum       mean   sum   \n",
       "0             0      554   75.0  0.135379  2.790614  554  27.472924     0   \n",
       "1             1       86   50.0  0.581395  2.651163   45   4.304264    86   \n",
       "2             2      344  257.0  0.747093  2.220930    0  27.534884     0   \n",
       "3             3      276  108.0  0.391304  1.206522  223  44.068841     0   \n",
       "4             4       49   10.0  0.204082  2.714286   21  28.459184     0   \n",
       "\n",
       "  family_size  \n",
       "         mean  \n",
       "0    1.274368  \n",
       "1    4.116279  \n",
       "2    1.767442  \n",
       "3    1.608696  \n",
       "4    7.224490  "
      ]
     },
     "execution_count": 259,
     "metadata": {},
     "output_type": "execute_result"
    }
   ],
   "source": [
    "check = t.groupby('cluster_label').agg({'survived':['count','sum', 'mean'], 'pclass':'mean', 'sex':'sum', 'age':'mean', 'child':'sum', 'family_size':'mean'}).reset_index()\n",
    "check"
   ]
  },
  {
   "cell_type": "code",
   "execution_count": 260,
   "metadata": {
    "ExecuteTime": {
     "end_time": "2018-03-09T00:47:59.192958Z",
     "start_time": "2018-03-09T00:47:59.183210Z"
    }
   },
   "outputs": [],
   "source": [
    "from sklearn.pipeline import Pipeline"
   ]
  },
  {
   "cell_type": "code",
   "execution_count": 261,
   "metadata": {
    "ExecuteTime": {
     "end_time": "2018-03-09T00:47:59.207030Z",
     "start_time": "2018-03-09T00:47:59.197724Z"
    }
   },
   "outputs": [],
   "source": [
    "pipe = Pipeline([('cluster', KMeans())])"
   ]
  },
  {
   "cell_type": "code",
   "execution_count": 262,
   "metadata": {
    "ExecuteTime": {
     "end_time": "2018-03-09T00:47:59.220771Z",
     "start_time": "2018-03-09T00:47:59.212306Z"
    }
   },
   "outputs": [],
   "source": [
    "cluster__n_clusters = [2,3,4,5,6]"
   ]
  },
  {
   "cell_type": "code",
   "execution_count": 263,
   "metadata": {
    "ExecuteTime": {
     "end_time": "2018-03-09T00:47:59.763994Z",
     "start_time": "2018-03-09T00:47:59.227988Z"
    }
   },
   "outputs": [],
   "source": [
    "from sklearn.metrics import silhouette_score\n",
    "score = pd.DataFrame(columns=['clusters', 'silhouette_score', 'labels'])\n",
    "for n_cluster in cluster__n_clusters:\n",
    "    pipe = pipe.set_params(cluster__n_clusters = n_cluster)\n",
    "    labels = pipe.fit_predict(X)\n",
    "    silhouette_avg = silhouette_score(X, labels)\n",
    "    score = score.append({'clusters':n_cluster, 'silhouette_score': silhouette_avg, 'labels': labels}, ignore_index=True)"
   ]
  },
  {
   "cell_type": "code",
   "execution_count": 264,
   "metadata": {
    "ExecuteTime": {
     "end_time": "2018-03-09T00:47:59.828108Z",
     "start_time": "2018-03-09T00:47:59.774751Z"
    }
   },
   "outputs": [
    {
     "data": {
      "text/html": [
       "<div>\n",
       "<style scoped>\n",
       "    .dataframe tbody tr th:only-of-type {\n",
       "        vertical-align: middle;\n",
       "    }\n",
       "\n",
       "    .dataframe tbody tr th {\n",
       "        vertical-align: top;\n",
       "    }\n",
       "\n",
       "    .dataframe thead th {\n",
       "        text-align: right;\n",
       "    }\n",
       "</style>\n",
       "<table border=\"1\" class=\"dataframe\">\n",
       "  <thead>\n",
       "    <tr style=\"text-align: right;\">\n",
       "      <th></th>\n",
       "      <th>clusters</th>\n",
       "      <th>silhouette_score</th>\n",
       "      <th>labels</th>\n",
       "    </tr>\n",
       "  </thead>\n",
       "  <tbody>\n",
       "    <tr>\n",
       "      <th>0</th>\n",
       "      <td>2</td>\n",
       "      <td>0.559778</td>\n",
       "      <td>[0, 1, 1, 0, 0, 0, 0, 0, 0, 0, 0, 0, 0, 0, 0, ...</td>\n",
       "    </tr>\n",
       "    <tr>\n",
       "      <th>1</th>\n",
       "      <td>3</td>\n",
       "      <td>0.386265</td>\n",
       "      <td>[1, 0, 0, 2, 1, 2, 1, 2, 1, 2, 2, 1, 1, 1, 2, ...</td>\n",
       "    </tr>\n",
       "    <tr>\n",
       "      <th>2</th>\n",
       "      <td>4</td>\n",
       "      <td>0.412900</td>\n",
       "      <td>[0, 2, 2, 0, 1, 0, 0, 0, 0, 0, 0, 1, 0, 0, 0, ...</td>\n",
       "    </tr>\n",
       "    <tr>\n",
       "      <th>3</th>\n",
       "      <td>5</td>\n",
       "      <td>0.438838</td>\n",
       "      <td>[3, 1, 1, 2, 3, 2, 2, 2, 2, 2, 2, 3, 3, 3, 2, ...</td>\n",
       "    </tr>\n",
       "    <tr>\n",
       "      <th>4</th>\n",
       "      <td>6</td>\n",
       "      <td>0.457964</td>\n",
       "      <td>[4, 2, 2, 0, 4, 0, 4, 0, 4, 0, 0, 4, 4, 4, 0, ...</td>\n",
       "    </tr>\n",
       "  </tbody>\n",
       "</table>\n",
       "</div>"
      ],
      "text/plain": [
       "  clusters  silhouette_score  \\\n",
       "0        2          0.559778   \n",
       "1        3          0.386265   \n",
       "2        4          0.412900   \n",
       "3        5          0.438838   \n",
       "4        6          0.457964   \n",
       "\n",
       "                                              labels  \n",
       "0  [0, 1, 1, 0, 0, 0, 0, 0, 0, 0, 0, 0, 0, 0, 0, ...  \n",
       "1  [1, 0, 0, 2, 1, 2, 1, 2, 1, 2, 2, 1, 1, 1, 2, ...  \n",
       "2  [0, 2, 2, 0, 1, 0, 0, 0, 0, 0, 0, 1, 0, 0, 0, ...  \n",
       "3  [3, 1, 1, 2, 3, 2, 2, 2, 2, 2, 2, 3, 3, 3, 2, ...  \n",
       "4  [4, 2, 2, 0, 4, 0, 4, 0, 4, 0, 0, 4, 4, 4, 0, ...  "
      ]
     },
     "execution_count": 264,
     "metadata": {},
     "output_type": "execute_result"
    }
   ],
   "source": [
    "score"
   ]
  },
  {
   "cell_type": "code",
   "execution_count": 265,
   "metadata": {
    "ExecuteTime": {
     "end_time": "2018-03-09T00:47:59.852314Z",
     "start_time": "2018-03-09T00:47:59.832986Z"
    }
   },
   "outputs": [],
   "source": [
    "t['cluster_label_2'] = pd.Series(score.iloc[0,2], index=t.index)\n",
    "t['cluster_label_3'] = pd.Series(score.iloc[1,2], index=t.index)\n",
    "t['cluster_label_4'] = pd.Series(score.iloc[2,2], index=t.index)\n",
    "t['cluster_label_5'] = pd.Series(score.iloc[3,2], index=t.index)\n",
    "t['cluster_label_6'] = pd.Series(score.iloc[4,2], index=t.index)"
   ]
  },
  {
   "cell_type": "code",
   "execution_count": 266,
   "metadata": {
    "ExecuteTime": {
     "end_time": "2018-03-09T00:47:59.903250Z",
     "start_time": "2018-03-09T00:47:59.857056Z"
    }
   },
   "outputs": [],
   "source": [
    "check = t.groupby('cluster_label_2').agg({'survived':['count','sum', 'mean'], 'pclass':'mean', 'sex':'sum', 'age':'mean', 'child':'sum', 'family_size':'mean'}).reset_index()"
   ]
  },
  {
   "cell_type": "code",
   "execution_count": 267,
   "metadata": {
    "ExecuteTime": {
     "end_time": "2018-03-09T00:47:59.960355Z",
     "start_time": "2018-03-09T00:47:59.910136Z"
    }
   },
   "outputs": [
    {
     "data": {
      "text/html": [
       "<div>\n",
       "<style scoped>\n",
       "    .dataframe tbody tr th:only-of-type {\n",
       "        vertical-align: middle;\n",
       "    }\n",
       "\n",
       "    .dataframe tbody tr th {\n",
       "        vertical-align: top;\n",
       "    }\n",
       "\n",
       "    .dataframe thead tr th {\n",
       "        text-align: left;\n",
       "    }\n",
       "</style>\n",
       "<table border=\"1\" class=\"dataframe\">\n",
       "  <thead>\n",
       "    <tr>\n",
       "      <th></th>\n",
       "      <th>cluster_label_2</th>\n",
       "      <th colspan=\"3\" halign=\"left\">survived</th>\n",
       "      <th>pclass</th>\n",
       "      <th>sex</th>\n",
       "      <th>age</th>\n",
       "      <th>child</th>\n",
       "      <th>family_size</th>\n",
       "    </tr>\n",
       "    <tr>\n",
       "      <th></th>\n",
       "      <th></th>\n",
       "      <th>count</th>\n",
       "      <th>sum</th>\n",
       "      <th>mean</th>\n",
       "      <th>mean</th>\n",
       "      <th>sum</th>\n",
       "      <th>mean</th>\n",
       "      <th>sum</th>\n",
       "      <th>mean</th>\n",
       "    </tr>\n",
       "  </thead>\n",
       "  <tbody>\n",
       "    <tr>\n",
       "      <th>0</th>\n",
       "      <td>0</td>\n",
       "      <td>1206</td>\n",
       "      <td>449.0</td>\n",
       "      <td>0.372305</td>\n",
       "      <td>2.259536</td>\n",
       "      <td>789</td>\n",
       "      <td>31.403814</td>\n",
       "      <td>0</td>\n",
       "      <td>1.613599</td>\n",
       "    </tr>\n",
       "    <tr>\n",
       "      <th>1</th>\n",
       "      <td>1</td>\n",
       "      <td>103</td>\n",
       "      <td>51.0</td>\n",
       "      <td>0.495146</td>\n",
       "      <td>2.708738</td>\n",
       "      <td>54</td>\n",
       "      <td>7.249191</td>\n",
       "      <td>86</td>\n",
       "      <td>5.048544</td>\n",
       "    </tr>\n",
       "  </tbody>\n",
       "</table>\n",
       "</div>"
      ],
      "text/plain": [
       "  cluster_label_2 survived                     pclass  sex        age child  \\\n",
       "                     count    sum      mean      mean  sum       mean   sum   \n",
       "0               0     1206  449.0  0.372305  2.259536  789  31.403814     0   \n",
       "1               1      103   51.0  0.495146  2.708738   54   7.249191    86   \n",
       "\n",
       "  family_size  \n",
       "         mean  \n",
       "0    1.613599  \n",
       "1    5.048544  "
      ]
     },
     "execution_count": 267,
     "metadata": {},
     "output_type": "execute_result"
    }
   ],
   "source": [
    "check"
   ]
  },
  {
   "cell_type": "code",
   "execution_count": 275,
   "metadata": {
    "ExecuteTime": {
     "end_time": "2018-03-09T00:55:14.049951Z",
     "start_time": "2018-03-09T00:55:14.025737Z"
    }
   },
   "outputs": [],
   "source": [
    "check = t.groupby('cluster_label_6').agg({'pclass':['count','mean'], 'sex':'sum', 'age':['mean','median'], 'child':'sum', 'family_size':'mean'}).reset_index()"
   ]
  },
  {
   "cell_type": "code",
   "execution_count": 276,
   "metadata": {
    "ExecuteTime": {
     "end_time": "2018-03-09T00:55:14.808964Z",
     "start_time": "2018-03-09T00:55:14.778238Z"
    }
   },
   "outputs": [
    {
     "data": {
      "text/html": [
       "<div>\n",
       "<style scoped>\n",
       "    .dataframe tbody tr th:only-of-type {\n",
       "        vertical-align: middle;\n",
       "    }\n",
       "\n",
       "    .dataframe tbody tr th {\n",
       "        vertical-align: top;\n",
       "    }\n",
       "\n",
       "    .dataframe thead tr th {\n",
       "        text-align: left;\n",
       "    }\n",
       "</style>\n",
       "<table border=\"1\" class=\"dataframe\">\n",
       "  <thead>\n",
       "    <tr>\n",
       "      <th></th>\n",
       "      <th>cluster_label_6</th>\n",
       "      <th colspan=\"2\" halign=\"left\">pclass</th>\n",
       "      <th>sex</th>\n",
       "      <th colspan=\"2\" halign=\"left\">age</th>\n",
       "      <th>child</th>\n",
       "      <th>family_size</th>\n",
       "    </tr>\n",
       "    <tr>\n",
       "      <th></th>\n",
       "      <th></th>\n",
       "      <th>count</th>\n",
       "      <th>mean</th>\n",
       "      <th>sum</th>\n",
       "      <th>mean</th>\n",
       "      <th>median</th>\n",
       "      <th>sum</th>\n",
       "      <th>mean</th>\n",
       "    </tr>\n",
       "  </thead>\n",
       "  <tbody>\n",
       "    <tr>\n",
       "      <th>0</th>\n",
       "      <td>0</td>\n",
       "      <td>240</td>\n",
       "      <td>1.300000</td>\n",
       "      <td>240</td>\n",
       "      <td>41.664583</td>\n",
       "      <td>40.0</td>\n",
       "      <td>0</td>\n",
       "      <td>1.520833</td>\n",
       "    </tr>\n",
       "    <tr>\n",
       "      <th>1</th>\n",
       "      <td>1</td>\n",
       "      <td>47</td>\n",
       "      <td>2.765957</td>\n",
       "      <td>21</td>\n",
       "      <td>27.244681</td>\n",
       "      <td>28.0</td>\n",
       "      <td>0</td>\n",
       "      <td>7.297872</td>\n",
       "    </tr>\n",
       "    <tr>\n",
       "      <th>2</th>\n",
       "      <td>2</td>\n",
       "      <td>86</td>\n",
       "      <td>2.651163</td>\n",
       "      <td>45</td>\n",
       "      <td>4.304264</td>\n",
       "      <td>4.0</td>\n",
       "      <td>86</td>\n",
       "      <td>4.116279</td>\n",
       "    </tr>\n",
       "    <tr>\n",
       "      <th>3</th>\n",
       "      <td>3</td>\n",
       "      <td>230</td>\n",
       "      <td>2.717391</td>\n",
       "      <td>0</td>\n",
       "      <td>25.895652</td>\n",
       "      <td>28.0</td>\n",
       "      <td>0</td>\n",
       "      <td>1.700000</td>\n",
       "    </tr>\n",
       "    <tr>\n",
       "      <th>4</th>\n",
       "      <td>4</td>\n",
       "      <td>169</td>\n",
       "      <td>1.171598</td>\n",
       "      <td>0</td>\n",
       "      <td>37.893491</td>\n",
       "      <td>36.0</td>\n",
       "      <td>0</td>\n",
       "      <td>1.958580</td>\n",
       "    </tr>\n",
       "    <tr>\n",
       "      <th>5</th>\n",
       "      <td>5</td>\n",
       "      <td>537</td>\n",
       "      <td>2.813780</td>\n",
       "      <td>537</td>\n",
       "      <td>27.205773</td>\n",
       "      <td>28.0</td>\n",
       "      <td>0</td>\n",
       "      <td>1.270019</td>\n",
       "    </tr>\n",
       "  </tbody>\n",
       "</table>\n",
       "</div>"
      ],
      "text/plain": [
       "  cluster_label_6 pclass            sex        age        child family_size\n",
       "                   count      mean  sum       mean median   sum        mean\n",
       "0               0    240  1.300000  240  41.664583   40.0     0    1.520833\n",
       "1               1     47  2.765957   21  27.244681   28.0     0    7.297872\n",
       "2               2     86  2.651163   45   4.304264    4.0    86    4.116279\n",
       "3               3    230  2.717391    0  25.895652   28.0     0    1.700000\n",
       "4               4    169  1.171598    0  37.893491   36.0     0    1.958580\n",
       "5               5    537  2.813780  537  27.205773   28.0     0    1.270019"
      ]
     },
     "execution_count": 276,
     "metadata": {},
     "output_type": "execute_result"
    }
   ],
   "source": [
    "check"
   ]
  },
  {
   "cell_type": "markdown",
   "metadata": {},
   "source": [
    "2. Women in lower classes have the best chances of survival.\n",
    "1. Men in higher classes have dismal chances of survival.\n",
    "0. Kids have a 60 percent chance of survival (perhaps because the mean class is so high).\n",
    "4. Woman in high classes have 37 percent lower chances of survival.\n",
    "3. Men in lower classes have dismal changes of survival.\n",
    "5. Passengers with kids have dismal chances of survival."
   ]
  },
  {
   "cell_type": "code",
   "execution_count": 274,
   "metadata": {
    "ExecuteTime": {
     "end_time": "2018-03-09T00:53:56.412417Z",
     "start_time": "2018-03-09T00:53:56.371450Z"
    }
   },
   "outputs": [
    {
     "data": {
      "text/html": [
       "<div>\n",
       "<style scoped>\n",
       "    .dataframe tbody tr th:only-of-type {\n",
       "        vertical-align: middle;\n",
       "    }\n",
       "\n",
       "    .dataframe tbody tr th {\n",
       "        vertical-align: top;\n",
       "    }\n",
       "\n",
       "    .dataframe thead tr th {\n",
       "        text-align: left;\n",
       "    }\n",
       "</style>\n",
       "<table border=\"1\" class=\"dataframe\">\n",
       "  <thead>\n",
       "    <tr>\n",
       "      <th></th>\n",
       "      <th>cluster_label_6</th>\n",
       "      <th colspan=\"3\" halign=\"left\">survived</th>\n",
       "      <th>pclass</th>\n",
       "      <th>sex</th>\n",
       "      <th colspan=\"2\" halign=\"left\">age</th>\n",
       "      <th>child</th>\n",
       "      <th>family_size</th>\n",
       "    </tr>\n",
       "    <tr>\n",
       "      <th></th>\n",
       "      <th></th>\n",
       "      <th>count</th>\n",
       "      <th>sum</th>\n",
       "      <th>mean</th>\n",
       "      <th>mean</th>\n",
       "      <th>sum</th>\n",
       "      <th>mean</th>\n",
       "      <th>median</th>\n",
       "      <th>sum</th>\n",
       "      <th>mean</th>\n",
       "    </tr>\n",
       "  </thead>\n",
       "  <tbody>\n",
       "    <tr>\n",
       "      <th>0</th>\n",
       "      <td>0</td>\n",
       "      <td>240</td>\n",
       "      <td>60.0</td>\n",
       "      <td>0.250000</td>\n",
       "      <td>1.300000</td>\n",
       "      <td>240</td>\n",
       "      <td>41.664583</td>\n",
       "      <td>40.0</td>\n",
       "      <td>0</td>\n",
       "      <td>1.520833</td>\n",
       "    </tr>\n",
       "    <tr>\n",
       "      <th>1</th>\n",
       "      <td>1</td>\n",
       "      <td>47</td>\n",
       "      <td>8.0</td>\n",
       "      <td>0.170213</td>\n",
       "      <td>2.765957</td>\n",
       "      <td>21</td>\n",
       "      <td>27.244681</td>\n",
       "      <td>28.0</td>\n",
       "      <td>0</td>\n",
       "      <td>7.297872</td>\n",
       "    </tr>\n",
       "    <tr>\n",
       "      <th>2</th>\n",
       "      <td>2</td>\n",
       "      <td>86</td>\n",
       "      <td>50.0</td>\n",
       "      <td>0.581395</td>\n",
       "      <td>2.651163</td>\n",
       "      <td>45</td>\n",
       "      <td>4.304264</td>\n",
       "      <td>4.0</td>\n",
       "      <td>86</td>\n",
       "      <td>4.116279</td>\n",
       "    </tr>\n",
       "    <tr>\n",
       "      <th>3</th>\n",
       "      <td>3</td>\n",
       "      <td>230</td>\n",
       "      <td>147.0</td>\n",
       "      <td>0.639130</td>\n",
       "      <td>2.717391</td>\n",
       "      <td>0</td>\n",
       "      <td>25.895652</td>\n",
       "      <td>28.0</td>\n",
       "      <td>0</td>\n",
       "      <td>1.700000</td>\n",
       "    </tr>\n",
       "    <tr>\n",
       "      <th>4</th>\n",
       "      <td>4</td>\n",
       "      <td>169</td>\n",
       "      <td>161.0</td>\n",
       "      <td>0.952663</td>\n",
       "      <td>1.171598</td>\n",
       "      <td>0</td>\n",
       "      <td>37.893491</td>\n",
       "      <td>36.0</td>\n",
       "      <td>0</td>\n",
       "      <td>1.958580</td>\n",
       "    </tr>\n",
       "    <tr>\n",
       "      <th>5</th>\n",
       "      <td>5</td>\n",
       "      <td>537</td>\n",
       "      <td>74.0</td>\n",
       "      <td>0.137803</td>\n",
       "      <td>2.813780</td>\n",
       "      <td>537</td>\n",
       "      <td>27.205773</td>\n",
       "      <td>28.0</td>\n",
       "      <td>0</td>\n",
       "      <td>1.270019</td>\n",
       "    </tr>\n",
       "  </tbody>\n",
       "</table>\n",
       "</div>"
      ],
      "text/plain": [
       "  cluster_label_6 survived                     pclass  sex        age         \\\n",
       "                     count    sum      mean      mean  sum       mean median   \n",
       "0               0      240   60.0  0.250000  1.300000  240  41.664583   40.0   \n",
       "1               1       47    8.0  0.170213  2.765957   21  27.244681   28.0   \n",
       "2               2       86   50.0  0.581395  2.651163   45   4.304264    4.0   \n",
       "3               3      230  147.0  0.639130  2.717391    0  25.895652   28.0   \n",
       "4               4      169  161.0  0.952663  1.171598    0  37.893491   36.0   \n",
       "5               5      537   74.0  0.137803  2.813780  537  27.205773   28.0   \n",
       "\n",
       "  child family_size  \n",
       "    sum        mean  \n",
       "0     0    1.520833  \n",
       "1     0    7.297872  \n",
       "2    86    4.116279  \n",
       "3     0    1.700000  \n",
       "4     0    1.958580  \n",
       "5     0    1.270019  "
      ]
     },
     "execution_count": 274,
     "metadata": {},
     "output_type": "execute_result"
    }
   ],
   "source": [
    "t.groupby('cluster_label_6').agg({'survived':['count','sum', 'mean'], 'pclass':'mean', 'sex':'sum', 'age':['mean','median'], 'child':'sum', 'family_size':'mean'}).reset_index()"
   ]
  },
  {
   "cell_type": "code",
   "execution_count": null,
   "metadata": {},
   "outputs": [],
   "source": []
  }
 ],
 "metadata": {
  "kernelspec": {
   "display_name": "Python 3",
   "language": "python",
   "name": "python3"
  },
  "language_info": {
   "codemirror_mode": {
    "name": "ipython",
    "version": 3
   },
   "file_extension": ".py",
   "mimetype": "text/x-python",
   "name": "python",
   "nbconvert_exporter": "python",
   "pygments_lexer": "ipython3",
   "version": "3.6.4"
  },
  "toc": {
   "nav_menu": {},
   "number_sections": true,
   "sideBar": true,
   "skip_h1_title": false,
   "title_cell": "Table of Contents",
   "title_sidebar": "Contents",
   "toc_cell": false,
   "toc_position": {},
   "toc_section_display": true,
   "toc_window_display": false
  },
  "varInspector": {
   "cols": {
    "lenName": 16,
    "lenType": 16,
    "lenVar": 40
   },
   "kernels_config": {
    "python": {
     "delete_cmd_postfix": "",
     "delete_cmd_prefix": "del ",
     "library": "var_list.py",
     "varRefreshCmd": "print(var_dic_list())"
    },
    "r": {
     "delete_cmd_postfix": ") ",
     "delete_cmd_prefix": "rm(",
     "library": "var_list.r",
     "varRefreshCmd": "cat(var_dic_list()) "
    }
   },
   "types_to_exclude": [
    "module",
    "function",
    "builtin_function_or_method",
    "instance",
    "_Feature"
   ],
   "window_display": false
  }
 },
 "nbformat": 4,
 "nbformat_minor": 2
}
