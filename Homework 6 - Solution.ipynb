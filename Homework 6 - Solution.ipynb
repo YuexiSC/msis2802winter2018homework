{
 "cells": [
  {
   "cell_type": "markdown",
   "metadata": {},
   "source": [
    "# Homework 6 - Women and children first?!"
   ]
  },
  {
   "cell_type": "markdown",
   "metadata": {},
   "source": [
    "The objective of this homework is to practice simple decision trees. To successfully complete this homework, you may use any resources available to you. \n",
    "\n",
    "Get the `titanic3.csv` data (Source: [Link](http://biostat.mc.vanderbilt.edu/wiki/pub/Main/DataSets/titanic3info.txt).\n",
    "\n",
    "1. Analyze the data using pandas.\n",
    "    * Create a column that specifies whether the person is a child (age <= 10)\n",
    "    * Group the data by `sex`, `child`, `pclass` and interpret the survival rate.\n",
    "2. Develop a decision tree with depth of 1.\n",
    "    * Preprocess the `sex` column using LabelEncoder\n",
    "    * Develop the decision tree\n",
    "    * Visually reproduce the decision tree using a seaborn barchart.\n",
    "    * Use the t-test from scipy.stats to statistically reproduce the decision.\n",
    "    * Interpret the decision tree.\n",
    "3. Develop a decision tree with depth of 2.\n",
    "    * Develop the decision tree\n",
    "    * Visually reproduce the decision tree using seaborn barcharts (left side and right side)\n",
    "    * Use the ranksums test from scipy.stats to statistically reproduce the decisions.\n",
    "    * Interpret the decision tree. \n",
    "    \n",
    "Hints:\n",
    "* Explain what you are doing.\n",
    "* Use references."
   ]
  },
  {
   "cell_type": "code",
   "execution_count": 1,
   "metadata": {
    "ExecuteTime": {
     "end_time": "2018-03-08T23:12:25.240784Z",
     "start_time": "2018-03-08T23:12:24.453552Z"
    }
   },
   "outputs": [],
   "source": [
    "import numpy as np\n",
    "import pandas as pd\n",
    "import seaborn as sns"
   ]
  },
  {
   "cell_type": "code",
   "execution_count": 2,
   "metadata": {
    "ExecuteTime": {
     "end_time": "2018-03-08T23:12:25.357743Z",
     "start_time": "2018-03-08T23:12:25.243831Z"
    }
   },
   "outputs": [],
   "source": [
    "import sklearn as sk\n",
    "import sklearn.tree as tree\n",
    "import sklearn.preprocessing as pp\n",
    "import sklearn.metrics as sm"
   ]
  },
  {
   "cell_type": "code",
   "execution_count": 3,
   "metadata": {
    "ExecuteTime": {
     "end_time": "2018-03-08T23:12:25.367739Z",
     "start_time": "2018-03-08T23:12:25.362094Z"
    }
   },
   "outputs": [],
   "source": [
    "from IPython.core.interactiveshell import InteractiveShell\n",
    "InteractiveShell.ast_node_interactivity = \"all\""
   ]
  },
  {
   "cell_type": "code",
   "execution_count": 4,
   "metadata": {
    "ExecuteTime": {
     "end_time": "2018-03-08T23:12:25.389190Z",
     "start_time": "2018-03-08T23:12:25.374971Z"
    }
   },
   "outputs": [],
   "source": [
    "%matplotlib inline"
   ]
  },
  {
   "cell_type": "code",
   "execution_count": 5,
   "metadata": {
    "ExecuteTime": {
     "end_time": "2018-03-08T23:12:25.431639Z",
     "start_time": "2018-03-08T23:12:25.397336Z"
    }
   },
   "outputs": [],
   "source": [
    "tc = pd.read_csv(\"titanic3.csv\")"
   ]
  },
  {
   "cell_type": "code",
   "execution_count": 6,
   "metadata": {
    "ExecuteTime": {
     "end_time": "2018-03-08T23:12:25.473211Z",
     "start_time": "2018-03-08T23:12:25.438313Z"
    }
   },
   "outputs": [
    {
     "data": {
      "text/plain": [
       "Index(['pclass', 'survived', 'name', 'sex', 'age', 'sibsp', 'parch', 'ticket',\n",
       "       'fare', 'cabin', 'embarked', 'boat', 'body', 'home.dest'],\n",
       "      dtype='object')"
      ]
     },
     "execution_count": 6,
     "metadata": {},
     "output_type": "execute_result"
    }
   ],
   "source": [
    "tc.columns"
   ]
  },
  {
   "cell_type": "markdown",
   "metadata": {},
   "source": [
    "## Description of the dataset\n",
    "\n",
    "Each row is a passenger on the Titanic. The columns report attributes for the passengers:\n",
    "\n",
    "| Column | Description | Relevant for this homework|\n",
    "|--------|-------------|--------|\n",
    "|`survived`|1 = survived, 0 = died | **X**|\n",
    "|`pclass`| 1 = first class, 2 = second class, 3 = third class |**X**|\n",
    "|`name`| Name of the passenger| |\n",
    "|`sex`| male or female|**X**|\n",
    "|`age`| age in years|**X**|\n",
    "|`sibsp`| The number of siblings or spouses that are also traveling on the Titanic| |\n",
    "|`parch`| The number of parents or childen that are also traveling on the Titanic| |\n",
    "|`ticket`|The ticket number| |\n",
    "|`fare`| The ticket price | |\n",
    "|`cabin`| The cabin number | |\n",
    "|`embarked`| The starting city | |\n",
    "|`boat`| The emergency boat number | |\n",
    "|`body`| The identification number of the body | |\n",
    "|`home.dest`| The destination of the passenger | |"
   ]
  },
  {
   "cell_type": "code",
   "execution_count": 7,
   "metadata": {
    "ExecuteTime": {
     "end_time": "2018-03-08T23:12:25.501109Z",
     "start_time": "2018-03-08T23:12:25.478369Z"
    }
   },
   "outputs": [
    {
     "data": {
      "text/plain": [
       "0.3819709702062643"
      ]
     },
     "execution_count": 7,
     "metadata": {},
     "output_type": "execute_result"
    }
   ],
   "source": [
    "tc['survived'].mean()"
   ]
  },
  {
   "cell_type": "code",
   "execution_count": 10,
   "metadata": {
    "ExecuteTime": {
     "end_time": "2018-03-08T23:14:35.722340Z",
     "start_time": "2018-03-08T23:14:35.706351Z"
    }
   },
   "outputs": [
    {
     "data": {
      "text/plain": [
       "0.7274678111587983"
      ]
     },
     "execution_count": 10,
     "metadata": {},
     "output_type": "execute_result"
    }
   ],
   "source": [
    "len(tc[(tc['sex']=='female') & (tc['survived']==1)])/len(tc[tc['sex']=='female'])"
   ]
  },
  {
   "cell_type": "markdown",
   "metadata": {
    "ExecuteTime": {
     "end_time": "2018-02-13T19:56:42.551866Z",
     "start_time": "2018-02-13T19:56:42.546282Z"
    }
   },
   "source": [
    "## Women and children first?"
   ]
  },
  {
   "cell_type": "markdown",
   "metadata": {
    "ExecuteTime": {
     "end_time": "2018-02-13T21:57:06.601910Z",
     "start_time": "2018-02-13T21:57:06.595430Z"
    }
   },
   "source": [
    "### Create a column that specifies whether the person is a child (10 years or younger)\n"
   ]
  },
  {
   "cell_type": "code",
   "execution_count": 39,
   "metadata": {
    "ExecuteTime": {
     "end_time": "2018-03-08T23:02:57.978908Z",
     "start_time": "2018-03-08T23:02:57.967425Z"
    }
   },
   "outputs": [],
   "source": [
    "tc['child'] = tc['age'] <= 10"
   ]
  },
  {
   "cell_type": "markdown",
   "metadata": {},
   "source": [
    "### Group the data by `sex`, `child`, `pclass` and interpret the survival rate."
   ]
  },
  {
   "cell_type": "code",
   "execution_count": 40,
   "metadata": {
    "ExecuteTime": {
     "end_time": "2018-03-08T23:02:58.889175Z",
     "start_time": "2018-03-08T23:02:58.847430Z"
    }
   },
   "outputs": [
    {
     "data": {
      "text/html": [
       "<div>\n",
       "<style scoped>\n",
       "    .dataframe tbody tr th:only-of-type {\n",
       "        vertical-align: middle;\n",
       "    }\n",
       "\n",
       "    .dataframe tbody tr th {\n",
       "        vertical-align: top;\n",
       "    }\n",
       "\n",
       "    .dataframe thead th {\n",
       "        text-align: right;\n",
       "    }\n",
       "</style>\n",
       "<table border=\"1\" class=\"dataframe\">\n",
       "  <thead>\n",
       "    <tr style=\"text-align: right;\">\n",
       "      <th></th>\n",
       "      <th></th>\n",
       "      <th></th>\n",
       "      <th>mean</th>\n",
       "      <th>count</th>\n",
       "    </tr>\n",
       "    <tr>\n",
       "      <th>sex</th>\n",
       "      <th>child</th>\n",
       "      <th>pclass</th>\n",
       "      <th></th>\n",
       "      <th></th>\n",
       "    </tr>\n",
       "  </thead>\n",
       "  <tbody>\n",
       "    <tr>\n",
       "      <th>female</th>\n",
       "      <th>True</th>\n",
       "      <th>2.0</th>\n",
       "      <td>1.000000</td>\n",
       "      <td>11</td>\n",
       "    </tr>\n",
       "    <tr>\n",
       "      <th rowspan=\"2\" valign=\"top\">male</th>\n",
       "      <th rowspan=\"2\" valign=\"top\">True</th>\n",
       "      <th>1.0</th>\n",
       "      <td>1.000000</td>\n",
       "      <td>3</td>\n",
       "    </tr>\n",
       "    <tr>\n",
       "      <th>2.0</th>\n",
       "      <td>1.000000</td>\n",
       "      <td>11</td>\n",
       "    </tr>\n",
       "    <tr>\n",
       "      <th rowspan=\"4\" valign=\"top\">female</th>\n",
       "      <th rowspan=\"3\" valign=\"top\">False</th>\n",
       "      <th>1.0</th>\n",
       "      <td>0.972028</td>\n",
       "      <td>143</td>\n",
       "    </tr>\n",
       "    <tr>\n",
       "      <th>2.0</th>\n",
       "      <td>0.873684</td>\n",
       "      <td>95</td>\n",
       "    </tr>\n",
       "    <tr>\n",
       "      <th>3.0</th>\n",
       "      <td>0.491979</td>\n",
       "      <td>187</td>\n",
       "    </tr>\n",
       "    <tr>\n",
       "      <th>True</th>\n",
       "      <th>3.0</th>\n",
       "      <td>0.482759</td>\n",
       "      <td>29</td>\n",
       "    </tr>\n",
       "    <tr>\n",
       "      <th rowspan=\"4\" valign=\"top\">male</th>\n",
       "      <th>True</th>\n",
       "      <th>3.0</th>\n",
       "      <td>0.354839</td>\n",
       "      <td>31</td>\n",
       "    </tr>\n",
       "    <tr>\n",
       "      <th rowspan=\"3\" valign=\"top\">False</th>\n",
       "      <th>1.0</th>\n",
       "      <td>0.329545</td>\n",
       "      <td>176</td>\n",
       "    </tr>\n",
       "    <tr>\n",
       "      <th>3.0</th>\n",
       "      <td>0.138528</td>\n",
       "      <td>462</td>\n",
       "    </tr>\n",
       "    <tr>\n",
       "      <th>2.0</th>\n",
       "      <td>0.087500</td>\n",
       "      <td>160</td>\n",
       "    </tr>\n",
       "    <tr>\n",
       "      <th>female</th>\n",
       "      <th>True</th>\n",
       "      <th>1.0</th>\n",
       "      <td>0.000000</td>\n",
       "      <td>1</td>\n",
       "    </tr>\n",
       "  </tbody>\n",
       "</table>\n",
       "</div>"
      ],
      "text/plain": [
       "                         mean  count\n",
       "sex    child pclass                 \n",
       "female True  2.0     1.000000     11\n",
       "male   True  1.0     1.000000      3\n",
       "             2.0     1.000000     11\n",
       "female False 1.0     0.972028    143\n",
       "             2.0     0.873684     95\n",
       "             3.0     0.491979    187\n",
       "       True  3.0     0.482759     29\n",
       "male   True  3.0     0.354839     31\n",
       "       False 1.0     0.329545    176\n",
       "             3.0     0.138528    462\n",
       "             2.0     0.087500    160\n",
       "female True  1.0     0.000000      1"
      ]
     },
     "execution_count": 40,
     "metadata": {},
     "output_type": "execute_result"
    }
   ],
   "source": [
    "tc.groupby(['sex','child','pclass'])['survived'].agg({'mean', 'count'}).sort_values(by='mean', ascending=False)"
   ]
  },
  {
   "cell_type": "markdown",
   "metadata": {
    "ExecuteTime": {
     "end_time": "2018-02-13T21:58:44.757490Z",
     "start_time": "2018-02-13T21:58:44.747773Z"
    }
   },
   "source": [
    "## Decision Tree with depth of 1"
   ]
  },
  {
   "cell_type": "markdown",
   "metadata": {},
   "source": [
    "### Restrict your analysis on the relevant columns (check table above)."
   ]
  },
  {
   "cell_type": "code",
   "execution_count": 41,
   "metadata": {
    "ExecuteTime": {
     "end_time": "2018-03-08T23:03:00.020422Z",
     "start_time": "2018-03-08T23:03:00.010693Z"
    }
   },
   "outputs": [],
   "source": [
    "t = tc[['survived', 'pclass', 'sex', 'age']].copy()"
   ]
  },
  {
   "cell_type": "markdown",
   "metadata": {},
   "source": [
    "### Preprocess the `sex` column"
   ]
  },
  {
   "cell_type": "code",
   "execution_count": 42,
   "metadata": {
    "ExecuteTime": {
     "end_time": "2018-03-08T23:03:01.082864Z",
     "start_time": "2018-03-08T23:03:01.074097Z"
    }
   },
   "outputs": [],
   "source": [
    "t['sex'] = pp.LabelEncoder().fit_transform(t['sex'].astype(str))"
   ]
  },
  {
   "cell_type": "markdown",
   "metadata": {
    "ExecuteTime": {
     "end_time": "2018-02-13T22:00:07.023548Z",
     "start_time": "2018-02-13T22:00:07.018363Z"
    }
   },
   "source": [
    "### Clean the dataset"
   ]
  },
  {
   "cell_type": "code",
   "execution_count": 43,
   "metadata": {
    "ExecuteTime": {
     "end_time": "2018-03-08T23:03:02.008887Z",
     "start_time": "2018-03-08T23:03:01.998912Z"
    }
   },
   "outputs": [],
   "source": [
    "t.dropna(inplace=True)"
   ]
  },
  {
   "cell_type": "markdown",
   "metadata": {},
   "source": [
    "### Build the decision tree"
   ]
  },
  {
   "cell_type": "markdown",
   "metadata": {},
   "source": [
    "**Build** and **visualize** a decision tree with depth of 1 (i.e., one root and two leaf nodes) to find differences between passengers who survived and those who did not. "
   ]
  },
  {
   "cell_type": "code",
   "execution_count": 44,
   "metadata": {
    "ExecuteTime": {
     "end_time": "2018-03-08T23:03:03.254507Z",
     "start_time": "2018-03-08T23:03:03.247353Z"
    }
   },
   "outputs": [],
   "source": [
    "X= t.drop('survived',axis=1)"
   ]
  },
  {
   "cell_type": "code",
   "execution_count": 45,
   "metadata": {
    "ExecuteTime": {
     "end_time": "2018-03-08T23:03:03.817818Z",
     "start_time": "2018-03-08T23:03:03.813579Z"
    }
   },
   "outputs": [],
   "source": [
    "Y = t['survived']"
   ]
  },
  {
   "cell_type": "code",
   "execution_count": 46,
   "metadata": {
    "ExecuteTime": {
     "end_time": "2018-03-08T23:03:04.760780Z",
     "start_time": "2018-03-08T23:03:04.756010Z"
    }
   },
   "outputs": [],
   "source": [
    "dt_one = tree.DecisionTreeClassifier(max_depth=1)"
   ]
  },
  {
   "cell_type": "code",
   "execution_count": 47,
   "metadata": {
    "ExecuteTime": {
     "end_time": "2018-03-08T23:03:05.648664Z",
     "start_time": "2018-03-08T23:03:05.624736Z"
    }
   },
   "outputs": [
    {
     "data": {
      "text/plain": [
       "DecisionTreeClassifier(class_weight=None, criterion='gini', max_depth=1,\n",
       "            max_features=None, max_leaf_nodes=None,\n",
       "            min_impurity_decrease=0.0, min_impurity_split=None,\n",
       "            min_samples_leaf=1, min_samples_split=2,\n",
       "            min_weight_fraction_leaf=0.0, presort=False, random_state=None,\n",
       "            splitter='best')"
      ]
     },
     "execution_count": 47,
     "metadata": {},
     "output_type": "execute_result"
    },
    {
     "data": {
      "text/plain": [
       "0.7791586998087954"
      ]
     },
     "execution_count": 47,
     "metadata": {},
     "output_type": "execute_result"
    }
   ],
   "source": [
    "dt_one.fit(X,Y)\n",
    "dt_one.score(X,Y)"
   ]
  },
  {
   "cell_type": "code",
   "execution_count": 49,
   "metadata": {
    "ExecuteTime": {
     "end_time": "2018-03-08T23:03:27.295931Z",
     "start_time": "2018-03-08T23:03:27.125750Z"
    }
   },
   "outputs": [
    {
     "data": {
      "image/svg+xml": [
       "<?xml version=\"1.0\" encoding=\"UTF-8\" standalone=\"no\"?>\n",
       "<!DOCTYPE svg PUBLIC \"-//W3C//DTD SVG 1.1//EN\"\n",
       " \"http://www.w3.org/Graphics/SVG/1.1/DTD/svg11.dtd\">\n",
       "<!-- Generated by graphviz version 2.38.0 (20140413.2041)\n",
       " -->\n",
       "<!-- Title: Tree Pages: 1 -->\n",
       "<svg width=\"378pt\" height=\"195pt\"\n",
       " viewBox=\"0.00 0.00 378.00 195.00\" xmlns=\"http://www.w3.org/2000/svg\" xmlns:xlink=\"http://www.w3.org/1999/xlink\">\n",
       "<g id=\"graph0\" class=\"graph\" transform=\"scale(1 1) rotate(0) translate(4 191)\">\n",
       "<title>Tree</title>\n",
       "<polygon fill=\"white\" stroke=\"none\" points=\"-4,4 -4,-191 374,-191 374,4 -4,4\"/>\n",
       "<!-- 0 -->\n",
       "<g id=\"node1\" class=\"node\"><title>0</title>\n",
       "<path fill=\"#e58139\" fill-opacity=\"0.309804\" stroke=\"black\" d=\"M261,-187C261,-187 109,-187 109,-187 103,-187 97,-181 97,-175 97,-175 97,-116 97,-116 97,-110 103,-104 109,-104 109,-104 261,-104 261,-104 267,-104 273,-110 273,-116 273,-116 273,-175 273,-175 273,-181 267,-187 261,-187\"/>\n",
       "<text text-anchor=\"start\" x=\"151.5\" y=\"-171.8\" font-family=\"Helvetica,sans-Serif\" font-size=\"14.00\">sex ≤ 0.5</text>\n",
       "<text text-anchor=\"start\" x=\"141.5\" y=\"-156.8\" font-family=\"Helvetica,sans-Serif\" font-size=\"14.00\">gini = 0.483</text>\n",
       "<text text-anchor=\"start\" x=\"120\" y=\"-141.8\" font-family=\"Helvetica,sans-Serif\" font-size=\"14.00\">samples = 100.0%</text>\n",
       "<text text-anchor=\"start\" x=\"105\" y=\"-126.8\" font-family=\"Helvetica,sans-Serif\" font-size=\"14.00\">value = [0.592, 0.408]</text>\n",
       "<text text-anchor=\"start\" x=\"142.5\" y=\"-111.8\" font-family=\"Helvetica,sans-Serif\" font-size=\"14.00\">class = Died</text>\n",
       "</g>\n",
       "<!-- 1 -->\n",
       "<g id=\"node2\" class=\"node\"><title>1</title>\n",
       "<path fill=\"#399de5\" fill-opacity=\"0.670588\" stroke=\"black\" d=\"M164,-68C164,-68 12,-68 12,-68 6,-68 1.42109e-14,-62 1.42109e-14,-56 1.42109e-14,-56 1.42109e-14,-12 1.42109e-14,-12 1.42109e-14,-6 6,-0 12,-0 12,-0 164,-0 164,-0 170,-0 176,-6 176,-12 176,-12 176,-56 176,-56 176,-62 170,-68 164,-68\"/>\n",
       "<text text-anchor=\"start\" x=\"44.5\" y=\"-52.8\" font-family=\"Helvetica,sans-Serif\" font-size=\"14.00\">gini = 0.372</text>\n",
       "<text text-anchor=\"start\" x=\"27.5\" y=\"-37.8\" font-family=\"Helvetica,sans-Serif\" font-size=\"14.00\">samples = 37.1%</text>\n",
       "<text text-anchor=\"start\" x=\"8\" y=\"-22.8\" font-family=\"Helvetica,sans-Serif\" font-size=\"14.00\">value = [0.247, 0.753]</text>\n",
       "<text text-anchor=\"start\" x=\"30.5\" y=\"-7.8\" font-family=\"Helvetica,sans-Serif\" font-size=\"14.00\">class = Survived</text>\n",
       "</g>\n",
       "<!-- 0&#45;&gt;1 -->\n",
       "<g id=\"edge1\" class=\"edge\"><title>0&#45;&gt;1</title>\n",
       "<path fill=\"none\" stroke=\"black\" d=\"M148.881,-103.726C140.801,-94.6054 132.23,-84.93 124.149,-75.8078\"/>\n",
       "<polygon fill=\"black\" stroke=\"black\" points=\"126.749,-73.4642 117.498,-68.2996 121.509,-78.1058 126.749,-73.4642\"/>\n",
       "<text text-anchor=\"middle\" x=\"115.988\" y=\"-89.5539\" font-family=\"Helvetica,sans-Serif\" font-size=\"14.00\">True</text>\n",
       "</g>\n",
       "<!-- 2 -->\n",
       "<g id=\"node3\" class=\"node\"><title>2</title>\n",
       "<path fill=\"#e58139\" fill-opacity=\"0.741176\" stroke=\"black\" d=\"M358,-68C358,-68 206,-68 206,-68 200,-68 194,-62 194,-56 194,-56 194,-12 194,-12 194,-6 200,-0 206,-0 206,-0 358,-0 358,-0 364,-0 370,-6 370,-12 370,-12 370,-56 370,-56 370,-62 364,-68 358,-68\"/>\n",
       "<text text-anchor=\"start\" x=\"238.5\" y=\"-52.8\" font-family=\"Helvetica,sans-Serif\" font-size=\"14.00\">gini = 0.326</text>\n",
       "<text text-anchor=\"start\" x=\"221.5\" y=\"-37.8\" font-family=\"Helvetica,sans-Serif\" font-size=\"14.00\">samples = 62.9%</text>\n",
       "<text text-anchor=\"start\" x=\"202\" y=\"-22.8\" font-family=\"Helvetica,sans-Serif\" font-size=\"14.00\">value = [0.795, 0.205]</text>\n",
       "<text text-anchor=\"start\" x=\"239.5\" y=\"-7.8\" font-family=\"Helvetica,sans-Serif\" font-size=\"14.00\">class = Died</text>\n",
       "</g>\n",
       "<!-- 0&#45;&gt;2 -->\n",
       "<g id=\"edge2\" class=\"edge\"><title>0&#45;&gt;2</title>\n",
       "<path fill=\"none\" stroke=\"black\" d=\"M221.119,-103.726C229.199,-94.6054 237.77,-84.93 245.851,-75.8078\"/>\n",
       "<polygon fill=\"black\" stroke=\"black\" points=\"248.491,-78.1058 252.502,-68.2996 243.251,-73.4642 248.491,-78.1058\"/>\n",
       "<text text-anchor=\"middle\" x=\"254.012\" y=\"-89.5539\" font-family=\"Helvetica,sans-Serif\" font-size=\"14.00\">False</text>\n",
       "</g>\n",
       "</g>\n",
       "</svg>\n"
      ],
      "text/plain": [
       "<graphviz.files.Source at 0x7fc74c7fe550>"
      ]
     },
     "execution_count": 49,
     "metadata": {},
     "output_type": "execute_result"
    }
   ],
   "source": [
    "import graphviz\n",
    "dot_data = tree.export_graphviz(dt_one, out_file=None, \n",
    "                         feature_names=list(X.columns),  \n",
    "                         class_names = ['Survived' if i == 1 else 'Died' for i in dt_one.classes_] ,\n",
    "                         filled=True, rounded=True,  \n",
    "                         special_characters=True, \n",
    "                         proportion=True,\n",
    "                        )  \n",
    "graph = graphviz.Source(dot_data)  \n",
    "graph "
   ]
  },
  {
   "cell_type": "markdown",
   "metadata": {
    "ExecuteTime": {
     "end_time": "2018-02-13T22:04:37.179367Z",
     "start_time": "2018-02-13T22:04:37.172592Z"
    }
   },
   "source": [
    "### Visually reproduce the decision tree using a seaborn factorplot.\n"
   ]
  },
  {
   "cell_type": "code",
   "execution_count": 50,
   "metadata": {
    "ExecuteTime": {
     "end_time": "2018-03-08T23:03:29.044786Z",
     "start_time": "2018-03-08T23:03:28.802191Z"
    }
   },
   "outputs": [
    {
     "data": {
      "image/png": "[encoded data removed]",
      "text/plain": [
       "<matplotlib.figure.Figure at 0x7fc74c648ac8>"
      ]
     },
     "metadata": {},
     "output_type": "display_data"
    }
   ],
   "source": [
    "import seaborn as sns\n",
    "sns.factorplot(x='sex',y='survived',data=t,kind='bar');"
   ]
  },
  {
   "cell_type": "markdown",
   "metadata": {
    "ExecuteTime": {
     "end_time": "2018-02-13T22:05:16.232383Z",
     "start_time": "2018-02-13T22:05:16.227762Z"
    }
   },
   "source": [
    "### Use the t-test from `scipy.stats` to statistically reproduce the decision."
   ]
  },
  {
   "cell_type": "code",
   "execution_count": 51,
   "metadata": {
    "ExecuteTime": {
     "end_time": "2018-03-08T23:03:30.244020Z",
     "start_time": "2018-03-08T23:03:30.223138Z"
    }
   },
   "outputs": [
    {
     "data": {
      "text/plain": [
       "Ttest_indResult(statistic=20.622130510238705, pvalue=1.566605331038222e-79)"
      ]
     },
     "execution_count": 51,
     "metadata": {},
     "output_type": "execute_result"
    }
   ],
   "source": [
    "from scipy.stats import ttest_ind\n",
    "\n",
    "f = t[t['sex']==0]['survived']\n",
    "m = t[t['sex']==1]['survived']\n",
    "\n",
    "ttest_ind(f, m)"
   ]
  },
  {
   "cell_type": "markdown",
   "metadata": {},
   "source": [
    "## Develop a decision tree with depth of 2"
   ]
  },
  {
   "cell_type": "markdown",
   "metadata": {},
   "source": [
    "<b>Build</b> and <b>show</b> a decision tree of <b>depth = 2</b> to find the differences between those who survived and those who didn't. Your tree should have four leaves."
   ]
  },
  {
   "cell_type": "code",
   "execution_count": 52,
   "metadata": {
    "ExecuteTime": {
     "end_time": "2018-03-08T23:03:32.673739Z",
     "start_time": "2018-03-08T23:03:32.659224Z"
    }
   },
   "outputs": [
    {
     "data": {
      "text/plain": [
       "DecisionTreeClassifier(class_weight=None, criterion='gini', max_depth=2,\n",
       "            max_features=None, max_leaf_nodes=None,\n",
       "            min_impurity_decrease=0.0, min_impurity_split=None,\n",
       "            min_samples_leaf=1, min_samples_split=2,\n",
       "            min_weight_fraction_leaf=0.0, presort=False, random_state=None,\n",
       "            splitter='best')"
      ]
     },
     "execution_count": 52,
     "metadata": {},
     "output_type": "execute_result"
    }
   ],
   "source": [
    "dt_two = tree.DecisionTreeClassifier(max_depth = 2)\n",
    "dt_two.fit(X,Y)"
   ]
  },
  {
   "cell_type": "code",
   "execution_count": 53,
   "metadata": {
    "ExecuteTime": {
     "end_time": "2018-03-08T23:03:34.911446Z",
     "start_time": "2018-03-08T23:03:34.839951Z"
    }
   },
   "outputs": [
    {
     "data": {
      "image/svg+xml": [
       "<?xml version=\"1.0\" encoding=\"UTF-8\" standalone=\"no\"?>\n",
       "<!DOCTYPE svg PUBLIC \"-//W3C//DTD SVG 1.1//EN\"\n",
       " \"http://www.w3.org/Graphics/SVG/1.1/DTD/svg11.dtd\">\n",
       "<!-- Generated by graphviz version 2.38.0 (20140413.2041)\n",
       " -->\n",
       "<!-- Title: Tree Pages: 1 -->\n",
       "<svg width=\"766pt\" height=\"314pt\"\n",
       " viewBox=\"0.00 0.00 766.00 314.00\" xmlns=\"http://www.w3.org/2000/svg\" xmlns:xlink=\"http://www.w3.org/1999/xlink\">\n",
       "<g id=\"graph0\" class=\"graph\" transform=\"scale(1 1) rotate(0) translate(4 310)\">\n",
       "<title>Tree</title>\n",
       "<polygon fill=\"white\" stroke=\"none\" points=\"-4,4 -4,-310 762,-310 762,4 -4,4\"/>\n",
       "<!-- 0 -->\n",
       "<g id=\"node1\" class=\"node\"><title>0</title>\n",
       "<polygon fill=\"#e58139\" fill-opacity=\"0.309804\" stroke=\"black\" points=\"467,-306 291,-306 291,-223 467,-223 467,-306\"/>\n",
       "<text text-anchor=\"start\" x=\"345\" y=\"-290.8\" font-family=\"Times,serif\" font-size=\"14.00\">sex ≤ 0.5</text>\n",
       "<text text-anchor=\"start\" x=\"334.5\" y=\"-275.8\" font-family=\"Times,serif\" font-size=\"14.00\">gini = 0.483</text>\n",
       "<text text-anchor=\"start\" x=\"312\" y=\"-260.8\" font-family=\"Times,serif\" font-size=\"14.00\">samples = 100.0%</text>\n",
       "<text text-anchor=\"start\" x=\"299\" y=\"-245.8\" font-family=\"Times,serif\" font-size=\"14.00\">value = [0.592, 0.408]</text>\n",
       "<text text-anchor=\"start\" x=\"333.5\" y=\"-230.8\" font-family=\"Times,serif\" font-size=\"14.00\">class = Died</text>\n",
       "</g>\n",
       "<!-- 1 -->\n",
       "<g id=\"node2\" class=\"node\"><title>1</title>\n",
       "<polygon fill=\"#399de5\" fill-opacity=\"0.670588\" stroke=\"black\" points=\"370,-187 194,-187 194,-104 370,-104 370,-187\"/>\n",
       "<text text-anchor=\"start\" x=\"237.5\" y=\"-171.8\" font-family=\"Times,serif\" font-size=\"14.00\">pclass ≤ 2.5</text>\n",
       "<text text-anchor=\"start\" x=\"237.5\" y=\"-156.8\" font-family=\"Times,serif\" font-size=\"14.00\">gini = 0.372</text>\n",
       "<text text-anchor=\"start\" x=\"219.5\" y=\"-141.8\" font-family=\"Times,serif\" font-size=\"14.00\">samples = 37.1%</text>\n",
       "<text text-anchor=\"start\" x=\"202\" y=\"-126.8\" font-family=\"Times,serif\" font-size=\"14.00\">value = [0.247, 0.753]</text>\n",
       "<text text-anchor=\"start\" x=\"221.5\" y=\"-111.8\" font-family=\"Times,serif\" font-size=\"14.00\">class = Survived</text>\n",
       "</g>\n",
       "<!-- 0&#45;&gt;1 -->\n",
       "<g id=\"edge1\" class=\"edge\"><title>0&#45;&gt;1</title>\n",
       "<path fill=\"none\" stroke=\"black\" d=\"M345.346,-222.907C337.823,-213.832 329.771,-204.121 322.018,-194.769\"/>\n",
       "<polygon fill=\"black\" stroke=\"black\" points=\"324.671,-192.485 315.594,-187.021 319.282,-196.953 324.671,-192.485\"/>\n",
       "<text text-anchor=\"middle\" x=\"313.268\" y=\"-208.212\" font-family=\"Times,serif\" font-size=\"14.00\">True</text>\n",
       "</g>\n",
       "<!-- 4 -->\n",
       "<g id=\"node5\" class=\"node\"><title>4</title>\n",
       "<polygon fill=\"#e58139\" fill-opacity=\"0.741176\" stroke=\"black\" points=\"564,-187 388,-187 388,-104 564,-104 564,-187\"/>\n",
       "<text text-anchor=\"start\" x=\"441\" y=\"-171.8\" font-family=\"Times,serif\" font-size=\"14.00\">age ≤ 9.5</text>\n",
       "<text text-anchor=\"start\" x=\"431.5\" y=\"-156.8\" font-family=\"Times,serif\" font-size=\"14.00\">gini = 0.326</text>\n",
       "<text text-anchor=\"start\" x=\"413.5\" y=\"-141.8\" font-family=\"Times,serif\" font-size=\"14.00\">samples = 62.9%</text>\n",
       "<text text-anchor=\"start\" x=\"396\" y=\"-126.8\" font-family=\"Times,serif\" font-size=\"14.00\">value = [0.795, 0.205]</text>\n",
       "<text text-anchor=\"start\" x=\"430.5\" y=\"-111.8\" font-family=\"Times,serif\" font-size=\"14.00\">class = Died</text>\n",
       "</g>\n",
       "<!-- 0&#45;&gt;4 -->\n",
       "<g id=\"edge4\" class=\"edge\"><title>0&#45;&gt;4</title>\n",
       "<path fill=\"none\" stroke=\"black\" d=\"M412.654,-222.907C420.177,-213.832 428.229,-204.121 435.982,-194.769\"/>\n",
       "<polygon fill=\"black\" stroke=\"black\" points=\"438.718,-196.953 442.406,-187.021 433.329,-192.485 438.718,-196.953\"/>\n",
       "<text text-anchor=\"middle\" x=\"444.732\" y=\"-208.212\" font-family=\"Times,serif\" font-size=\"14.00\">False</text>\n",
       "</g>\n",
       "<!-- 2 -->\n",
       "<g id=\"node3\" class=\"node\"><title>2</title>\n",
       "<polygon fill=\"#399de5\" fill-opacity=\"0.925490\" stroke=\"black\" points=\"176,-68 1.42109e-14,-68 1.42109e-14,-0 176,-0 176,-68\"/>\n",
       "<text text-anchor=\"start\" x=\"43.5\" y=\"-52.8\" font-family=\"Times,serif\" font-size=\"14.00\">gini = 0.126</text>\n",
       "<text text-anchor=\"start\" x=\"25.5\" y=\"-37.8\" font-family=\"Times,serif\" font-size=\"14.00\">samples = 22.6%</text>\n",
       "<text text-anchor=\"start\" x=\"8\" y=\"-22.8\" font-family=\"Times,serif\" font-size=\"14.00\">value = [0.068, 0.932]</text>\n",
       "<text text-anchor=\"start\" x=\"27.5\" y=\"-7.8\" font-family=\"Times,serif\" font-size=\"14.00\">class = Survived</text>\n",
       "</g>\n",
       "<!-- 1&#45;&gt;2 -->\n",
       "<g id=\"edge2\" class=\"edge\"><title>1&#45;&gt;2</title>\n",
       "<path fill=\"none\" stroke=\"black\" d=\"M210.037,-103.882C192.223,-93.8269 173.199,-83.0892 155.601,-73.1563\"/>\n",
       "<polygon fill=\"black\" stroke=\"black\" points=\"156.971,-69.9108 146.542,-68.0433 153.531,-76.0068 156.971,-69.9108\"/>\n",
       "</g>\n",
       "<!-- 3 -->\n",
       "<g id=\"node4\" class=\"node\"><title>3</title>\n",
       "<polygon fill=\"#e58139\" fill-opacity=\"0.098039\" stroke=\"black\" points=\"370,-68 194,-68 194,-0 370,-0 370,-68\"/>\n",
       "<text text-anchor=\"start\" x=\"237.5\" y=\"-52.8\" font-family=\"Times,serif\" font-size=\"14.00\">gini = 0.499</text>\n",
       "<text text-anchor=\"start\" x=\"219.5\" y=\"-37.8\" font-family=\"Times,serif\" font-size=\"14.00\">samples = 14.5%</text>\n",
       "<text text-anchor=\"start\" x=\"202\" y=\"-22.8\" font-family=\"Times,serif\" font-size=\"14.00\">value = [0.526, 0.474]</text>\n",
       "<text text-anchor=\"start\" x=\"236.5\" y=\"-7.8\" font-family=\"Times,serif\" font-size=\"14.00\">class = Died</text>\n",
       "</g>\n",
       "<!-- 1&#45;&gt;3 -->\n",
       "<g id=\"edge3\" class=\"edge\"><title>1&#45;&gt;3</title>\n",
       "<path fill=\"none\" stroke=\"black\" d=\"M282,-103.726C282,-95.5175 282,-86.8595 282,-78.56\"/>\n",
       "<polygon fill=\"black\" stroke=\"black\" points=\"285.5,-78.2996 282,-68.2996 278.5,-78.2996 285.5,-78.2996\"/>\n",
       "</g>\n",
       "<!-- 5 -->\n",
       "<g id=\"node6\" class=\"node\"><title>5</title>\n",
       "<polygon fill=\"#399de5\" fill-opacity=\"0.278431\" stroke=\"black\" points=\"564,-68 388,-68 388,-0 564,-0 564,-68\"/>\n",
       "<text text-anchor=\"start\" x=\"431.5\" y=\"-52.8\" font-family=\"Times,serif\" font-size=\"14.00\">gini = 0.487</text>\n",
       "<text text-anchor=\"start\" x=\"418\" y=\"-37.8\" font-family=\"Times,serif\" font-size=\"14.00\">samples = 4.1%</text>\n",
       "<text text-anchor=\"start\" x=\"396\" y=\"-22.8\" font-family=\"Times,serif\" font-size=\"14.00\">value = [0.419, 0.581]</text>\n",
       "<text text-anchor=\"start\" x=\"415.5\" y=\"-7.8\" font-family=\"Times,serif\" font-size=\"14.00\">class = Survived</text>\n",
       "</g>\n",
       "<!-- 4&#45;&gt;5 -->\n",
       "<g id=\"edge5\" class=\"edge\"><title>4&#45;&gt;5</title>\n",
       "<path fill=\"none\" stroke=\"black\" d=\"M476,-103.726C476,-95.5175 476,-86.8595 476,-78.56\"/>\n",
       "<polygon fill=\"black\" stroke=\"black\" points=\"479.5,-78.2996 476,-68.2996 472.5,-78.2996 479.5,-78.2996\"/>\n",
       "</g>\n",
       "<!-- 6 -->\n",
       "<g id=\"node7\" class=\"node\"><title>6</title>\n",
       "<polygon fill=\"#e58139\" fill-opacity=\"0.780392\" stroke=\"black\" points=\"758,-68 582,-68 582,-0 758,-0 758,-68\"/>\n",
       "<text text-anchor=\"start\" x=\"625.5\" y=\"-52.8\" font-family=\"Times,serif\" font-size=\"14.00\">gini = 0.294</text>\n",
       "<text text-anchor=\"start\" x=\"607.5\" y=\"-37.8\" font-family=\"Times,serif\" font-size=\"14.00\">samples = 58.8%</text>\n",
       "<text text-anchor=\"start\" x=\"590\" y=\"-22.8\" font-family=\"Times,serif\" font-size=\"14.00\">value = [0.821, 0.179]</text>\n",
       "<text text-anchor=\"start\" x=\"624.5\" y=\"-7.8\" font-family=\"Times,serif\" font-size=\"14.00\">class = Died</text>\n",
       "</g>\n",
       "<!-- 4&#45;&gt;6 -->\n",
       "<g id=\"edge6\" class=\"edge\"><title>4&#45;&gt;6</title>\n",
       "<path fill=\"none\" stroke=\"black\" d=\"M547.963,-103.882C565.777,-93.8269 584.801,-83.0892 602.399,-73.1563\"/>\n",
       "<polygon fill=\"black\" stroke=\"black\" points=\"604.469,-76.0068 611.458,-68.0433 601.029,-69.9108 604.469,-76.0068\"/>\n",
       "</g>\n",
       "</g>\n",
       "</svg>\n"
      ],
      "text/plain": [
       "<graphviz.files.Source at 0x7fc74c7ef470>"
      ]
     },
     "execution_count": 53,
     "metadata": {},
     "output_type": "execute_result"
    }
   ],
   "source": [
    "dot_data = tree.export_graphviz(dt_two, out_file=None, \n",
    "                         feature_names=list(X.columns),  \n",
    "                         class_names = ['Survived' if i == 1 else 'Died' for i in dt_two.classes_] ,\n",
    "                         filled=True, \n",
    "                         special_characters=True,\n",
    "                               proportion=True)  \n",
    "graph = graphviz.Source(dot_data)  \n",
    "graph "
   ]
  },
  {
   "cell_type": "markdown",
   "metadata": {},
   "source": [
    "###  Visually reproduce the left side of the decision tree using seaborn barcharts"
   ]
  },
  {
   "cell_type": "code",
   "execution_count": 54,
   "metadata": {
    "ExecuteTime": {
     "end_time": "2018-03-08T23:03:37.779245Z",
     "start_time": "2018-03-08T23:03:37.269396Z"
    }
   },
   "outputs": [
    {
     "data": {
      "text/plain": [
       "<seaborn.axisgrid.FacetGrid at 0x7fc789e41860>"
      ]
     },
     "execution_count": 54,
     "metadata": {},
     "output_type": "execute_result"
    },
    {
     "data": {
      "image/png": "[encoded data removed]",
      "text/plain": [
       "<matplotlib.figure.Figure at 0x7fc74c94ef60>"
      ]
     },
     "metadata": {},
     "output_type": "display_data"
    }
   ],
   "source": [
    "sns.factorplot(x='pclass',y='survived',hue = 'sex', data=t,aspect = 3,kind='bar')"
   ]
  },
  {
   "cell_type": "markdown",
   "metadata": {},
   "source": [
    "### Use the ranksums test from scipy.stats to statistically reproduce the decision on the left side.\n"
   ]
  },
  {
   "cell_type": "code",
   "execution_count": 55,
   "metadata": {
    "ExecuteTime": {
     "end_time": "2018-03-08T23:03:39.277974Z",
     "start_time": "2018-03-08T23:03:39.224397Z"
    }
   },
   "outputs": [
    {
     "data": {
      "text/plain": [
       "F_onewayResult(statistic=72.24579903597308, pvalue=2.2820168614374938e-27)"
      ]
     },
     "execution_count": 55,
     "metadata": {},
     "output_type": "execute_result"
    },
    {
     "data": {
      "text/plain": [
       "RanksumsResult(statistic=0.9112768945328199, pvalue=0.36214949741501345)"
      ]
     },
     "execution_count": 55,
     "metadata": {},
     "output_type": "execute_result"
    },
    {
     "data": {
      "text/plain": [
       "RanksumsResult(statistic=7.116835718867666, pvalue=1.1043298080716469e-12)"
      ]
     },
     "execution_count": 55,
     "metadata": {},
     "output_type": "execute_result"
    },
    {
     "data": {
      "text/plain": [
       "RanksumsResult(statistic=5.682420683900446, pvalue=1.3280150786907215e-08)"
      ]
     },
     "execution_count": 55,
     "metadata": {},
     "output_type": "execute_result"
    }
   ],
   "source": [
    "from scipy.stats import f_oneway, ranksums\n",
    "\n",
    "f_first = t[(t['pclass']==1) & (t['sex'] == 0) ]['survived']\n",
    "f_second = t[(t['pclass']==2) & (t['sex'] == 0) ]['survived']\n",
    "f_third = t[(t['pclass']==3) & (t['sex'] == 0) ]['survived']\n",
    "\n",
    "f_oneway(f_first, f_second, f_third)\n",
    "\n",
    "ranksums(f_first, f_second)\n",
    "ranksums(f_first, f_third)\n",
    "ranksums(f_second, f_third)"
   ]
  },
  {
   "cell_type": "markdown",
   "metadata": {},
   "source": [
    "###  Visually reproduce the right side of the decision tree using seaborn barcharts"
   ]
  },
  {
   "cell_type": "code",
   "execution_count": 56,
   "metadata": {
    "ExecuteTime": {
     "end_time": "2018-03-08T23:03:41.211435Z",
     "start_time": "2018-03-08T23:03:40.651722Z"
    },
    "scrolled": true
   },
   "outputs": [
    {
     "data": {
      "text/plain": [
       "<seaborn.axisgrid.FacetGrid at 0x7fc74c836780>"
      ]
     },
     "execution_count": 56,
     "metadata": {},
     "output_type": "execute_result"
    },
    {
     "data": {
      "image/png": "[encoded data removed]",
      "text/plain": [
       "<matplotlib.figure.Figure at 0x7fc74c6c30f0>"
      ]
     },
     "metadata": {},
     "output_type": "display_data"
    }
   ],
   "source": [
    "t['binned_age'] = pd.cut(t['age'],bins=[0,9.5,100])\n",
    "sns.factorplot(x='binned_age', y='survived',hue='sex', data=t,kind='bar')"
   ]
  },
  {
   "cell_type": "markdown",
   "metadata": {},
   "source": [
    "### Use the ranksums test from scipy.stats to statistically reproduce the decisions on the right side.\n"
   ]
  },
  {
   "cell_type": "code",
   "execution_count": 57,
   "metadata": {
    "ExecuteTime": {
     "end_time": "2018-03-08T23:03:42.338989Z",
     "start_time": "2018-03-08T23:03:42.305080Z"
    }
   },
   "outputs": [
    {
     "data": {
      "text/plain": [
       "RanksumsResult(statistic=0.464253353875546, pvalue=0.6424662395629337)"
      ]
     },
     "execution_count": 57,
     "metadata": {},
     "output_type": "execute_result"
    },
    {
     "data": {
      "text/plain": [
       "RanksumsResult(statistic=15.141856333434648, pvalue=8.575840678111461e-52)"
      ]
     },
     "execution_count": 57,
     "metadata": {},
     "output_type": "execute_result"
    }
   ],
   "source": [
    "c_f = t[(t['age']<=9.5) & (t['sex'] == 0) ]['survived']\n",
    "c_m = t[(t['age']<=9.5) & (t['sex'] == 1) ]['survived']\n",
    "a_f = t[(t['age']>9.5) & (t['sex'] == 0) ]['survived']\n",
    "a_m = t[(t['age']>9.5) & (t['sex'] == 1) ]['survived']\n",
    "\n",
    "ranksums(c_f, c_m)\n",
    "ranksums(a_f, a_m)\n"
   ]
  }
 ],
 "metadata": {
  "kernelspec": {
   "display_name": "Python 3",
   "language": "python",
   "name": "python3"
  },
  "language_info": {
   "codemirror_mode": {
    "name": "ipython",
    "version": 3
   },
   "file_extension": ".py",
   "mimetype": "text/x-python",
   "name": "python",
   "nbconvert_exporter": "python",
   "pygments_lexer": "ipython3",
   "version": "3.6.4"
  },
  "toc": {
   "nav_menu": {},
   "number_sections": true,
   "sideBar": true,
   "skip_h1_title": false,
   "title_cell": "Table of Contents",
   "title_sidebar": "Contents",
   "toc_cell": false,
   "toc_position": {},
   "toc_section_display": true,
   "toc_window_display": false
  },
  "varInspector": {
   "cols": {
    "lenName": 16,
    "lenType": 16,
    "lenVar": 40
   },
   "kernels_config": {
    "python": {
     "delete_cmd_postfix": "",
     "delete_cmd_prefix": "del ",
     "library": "var_list.py",
     "varRefreshCmd": "print(var_dic_list())"
    },
    "r": {
     "delete_cmd_postfix": ") ",
     "delete_cmd_prefix": "rm(",
     "library": "var_list.r",
     "varRefreshCmd": "cat(var_dic_list()) "
    }
   },
   "types_to_exclude": [
    "module",
    "function",
    "builtin_function_or_method",
    "instance",
    "_Feature"
   ],
   "window_display": false
  }
 },
 "nbformat": 4,
 "nbformat_minor": 2
}
